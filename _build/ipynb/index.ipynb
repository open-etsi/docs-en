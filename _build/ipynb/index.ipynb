{
 "cells": [
  {
   "cell_type": "markdown",
   "id": "ede966c7",
   "metadata": {},
   "source": [
    "# Data Generation"
   ]
  },
  {
   "cell_type": "markdown",
   "id": "463235ad",
   "metadata": {},
   "source": [
    ":begin_tab:toc\n",
    " - [**Introduction**](**Introduction**.ipynb)\n",
    " - [**Architecture**](**Architecture**.ipynb)\n",
    " - [**Block Diagram**](**Block Diagram**.ipynb)\n",
    ":end_tab:\n"
   ]
  },
  {
   "cell_type": "markdown",
   "id": "4b449997",
   "metadata": {},
   "source": [
    "**Introduction**\n",
    "\n",
    "Data Generation is Desktop application used to generate data for GSM USIM and ESIM as per ETSI Standards.\n",
    "\n",
    "**Architecture**\n",
    "\n",
    "We have some requirements from this tool like we need data as per user requirement as per user required format. For this we need to develop core python library as core component of this tool following `3GPP` and `ETSI` Standards.\n",
    "\n",
    "**Block Diagram**\n",
    "\n",
    "![Architecture Diagram](/static/architecture.png):width:`300px`"
   ]
  }
 ],
 "metadata": {
  "language_info": {
   "name": "python"
  }
 },
 "nbformat": 4,
 "nbformat_minor": 5
}