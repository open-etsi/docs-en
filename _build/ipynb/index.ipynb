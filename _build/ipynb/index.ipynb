{
 "cells": [
  {
   "cell_type": "markdown",
   "id": "d2bb8aff",
   "metadata": {},
   "source": [
    "# My Book\n",
    "\n",
    "The starting page of my book with `d2lbook`.\n",
    "\n",
    ":begin_tab:toc\n",
    " - [get_started](get_started.ipynb)\n",
    ":end_tab:\n"
   ]
  }
 ],
 "metadata": {
  "language_info": {
   "name": "python"
  }
 },
 "nbformat": 4,
 "nbformat_minor": 5
}