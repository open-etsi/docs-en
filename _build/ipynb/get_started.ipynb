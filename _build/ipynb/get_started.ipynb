{
 "cells": [
  {
   "cell_type": "markdown",
   "id": "2718c859",
   "metadata": {},
   "source": [
    "# Getting Started\n",
    "\n",
    "\n",
    "**Introduction**\n",
    "Data Generation is Desktop application used to generate data for GSM USIM and ESIM as per ETSI Standards.\n",
    "\n",
    "**Architecture**\n",
    "We have some requirements from this tool like we need data as per user requirement as per user required format. For this we need to develop core python library as core component of this tool following `3GPP` and `ETSI` Standards."
   ]
  }
 ],
 "metadata": {
  "language_info": {
   "name": "python"
  }
 },
 "nbformat": 4,
 "nbformat_minor": 5
}