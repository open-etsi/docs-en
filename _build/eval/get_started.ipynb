{
 "cells": [
  {
   "cell_type": "markdown",
   "id": "378bac3a",
   "metadata": {},
   "source": [
    "%%writefile cache/get_started.md\n",
    "# Getting Started\n",
    "\n",
    "\n",
    "\n",
    "**Introduction**\n",
    "\n",
    "Data Generation is Desktop application used to generate data for GSM USIM and ESIM as per ETSI Standards.\n",
    "\n",
    "**Architecture**\n",
    "\n",
    "We have some requirements from this tool like we need data as per user requirement as per user required format. For this we need to develop core python library as core component of this tool following `3GPP` and `ETSI` Standards.\n",
    "\n",
    "\n",
    "<!-- ![Architecture Diagram](static/architecture.png)\n",
    "![Estimating the length of a foot](../static/architecture.png) -->"
   ]
  }
 ],
 "metadata": {
  "language_info": {
   "name": "python"
  }
 },
 "nbformat": 4,
 "nbformat_minor": 5
}