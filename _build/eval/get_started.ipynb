{
 "cells": [
  {
   "cell_type": "markdown",
   "id": "666ed195",
   "metadata": {},
   "source": [
    "# Getting Started\n",
    "\n",
    "Please first install my favorite package `numpy`."
   ]
  }
 ],
 "metadata": {
  "language_info": {
   "name": "python"
  }
 },
 "nbformat": 4,
 "nbformat_minor": 5
}