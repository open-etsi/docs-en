{
 "cells": [
  {
   "cell_type": "markdown",
   "id": "6f97fcb2",
   "metadata": {},
   "source": [
    "# gsm-data-genration-en"
   ]
  }
 ],
 "metadata": {
  "language_info": {
   "name": "python"
  }
 },
 "nbformat": 4,
 "nbformat_minor": 5
}