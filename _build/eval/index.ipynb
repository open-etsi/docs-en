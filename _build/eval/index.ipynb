{
 "cells": [
  {
   "cell_type": "markdown",
   "id": "ddb61b3d",
   "metadata": {},
   "source": [
    "%%writefile cache/index.md\n",
    "# Data Generation"
   ]
  },
  {
   "cell_type": "markdown",
   "id": "f09d1b8f",
   "metadata": {},
   "source": [
    "````toc\n",
    "get_started\n",
    "````\n"
   ]
  },
  {
   "cell_type": "markdown",
   "id": "3d1355b0",
   "metadata": {},
   "source": [
    "**Introduction**\n",
    "\n",
    "Data Generation is Desktop application used to generate data for GSM USIM and ESIM as per ETSI Standards.\n",
    "\n",
    "**Architecture**\n",
    "\n",
    "We have some requirements from this tool like we need data as per user requirement as per user required format. For this we need to develop core python library as core component of this tool following `3GPP` and `ETSI` Standards.\n",
    "\n",
    "![Architecture Diagram](/static/architecture.png)\n",
    ":width:`400px`"
   ]
  }
 ],
 "metadata": {
  "language_info": {
   "name": "python"
  }
 },
 "nbformat": 4,
 "nbformat_minor": 5
}