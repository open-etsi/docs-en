{
 "cells": [
  {
   "cell_type": "markdown",
   "id": "5d89b757",
   "metadata": {},
   "source": [
    "# My Book\n",
    "\n",
    "The starting page of my book with `d2lbook`.\n",
    "\n",
    "````toc\n",
    "get_started"
   ]
  }
 ],
 "metadata": {
  "language_info": {
   "name": "python"
  }
 },
 "nbformat": 4,
 "nbformat_minor": 5
}