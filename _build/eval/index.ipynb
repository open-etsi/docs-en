{
 "cells": [
  {
   "cell_type": "markdown",
   "id": "5cc8037c",
   "metadata": {},
   "source": [
    "%%writefile cache/index.md\n",
    "# Data Generation"
   ]
  },
  {
   "cell_type": "markdown",
   "id": "19277e00",
   "metadata": {},
   "source": [
    "````toc\n",
    "get_started\n",
    "````\n"
   ]
  },
  {
   "cell_type": "markdown",
   "id": "84da9086",
   "metadata": {},
   "source": [
    "**Introduction**\n",
    "\n",
    "Data Generation is Desktop application used to generate data for GSM USIM and ESIM as per ETSI Standards.\n",
    "\n",
    "**Architecture**\n",
    "\n",
    "We have some requirements from this tool like we need data as per user requirement as per user required format. For this we need to develop core python library as core component of this tool following `3GPP` and `ETSI` Standards.\n",
    "\n",
    "![Architecture Diagram](/static/architecture.png) :width:`300px`"
   ]
  }
 ],
 "metadata": {
  "language_info": {
   "name": "python"
  }
 },
 "nbformat": 4,
 "nbformat_minor": 5
}