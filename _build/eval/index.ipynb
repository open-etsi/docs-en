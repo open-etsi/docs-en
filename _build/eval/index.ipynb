{
 "cells": [
  {
   "cell_type": "markdown",
   "id": "7d133c73",
   "metadata": {},
   "source": [
    "# Data Generation \n",
    "\n",
    "\n",
    "**Introduction**\n",
    "Data Generation is Desktop application used to generate data for GSM USIM and ESIM as per ETSI Standards.\n",
    "\n",
    "**Architecture**\n",
    "We have some requirements from this tool like we need data as per user requirement as per user required format. For this we need to develop core python library as core component of this tool following `3GPP` and `ETSI` Standards."
   ]
  }
 ],
 "metadata": {
  "language_info": {
   "name": "python"
  }
 },
 "nbformat": 4,
 "nbformat_minor": 5
}